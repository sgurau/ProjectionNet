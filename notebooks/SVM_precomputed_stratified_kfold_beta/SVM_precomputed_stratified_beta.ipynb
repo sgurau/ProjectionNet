{
 "cells": [
  {
   "cell_type": "code",
   "execution_count": null,
   "id": "0628213b",
   "metadata": {},
   "outputs": [],
   "source": [
    "import glob\n",
    "import os\n",
    "import numpy as np\n",
    "import pandas as pd\n",
    "from sklearn.svm import SVC\n",
    "from sklearn.metrics import accuracy_score\n",
    "from sklearn.preprocessing import LabelEncoder\n",
    "from collections import defaultdict\n",
    "from itertools import product"
   ]
  },
  {
   "cell_type": "code",
   "execution_count": null,
   "id": "18a96019",
   "metadata": {},
   "outputs": [],
   "source": [
    "np.random.seed(43)"
   ]
  },
  {
   "cell_type": "code",
   "execution_count": null,
   "id": "09e63c22",
   "metadata": {},
   "outputs": [],
   "source": [
    "# Define paths to data\n",
    "folder_paths = [\n",
    "    '/home/sgurau/Desktop/output/functional_connectivity/AD/sub-*',\n",
    "    '/home/sgurau/Desktop/output/functional_connectivity/CN/sub-*'\n",
    "]"
   ]
  },
  {
   "cell_type": "code",
   "execution_count": null,
   "id": "f24a9e9e",
   "metadata": {},
   "outputs": [],
   "source": [
    "# Create labels for data\n",
    "labels_string = []\n",
    "data_matrices = []  # List to store individual correlation matrices\n",
    "for folder_path in folder_paths:\n",
    "    if 'AD' in folder_path:\n",
    "        label = 'AD'\n",
    "    elif 'CN' in folder_path:\n",
    "        label = 'CN'\n",
    "    \n",
    "    data_files = glob.glob(os.path.join(folder_path, '*.txt'))  \n",
    "    for data_file in data_files:\n",
    "        # Load correlation matrix from data_file\n",
    "        correlation_matrix = np.loadtxt(data_file)\n",
    "        data_matrices.append(correlation_matrix)\n",
    "        labels_string.append(label)"
   ]
  },
  {
   "cell_type": "code",
   "execution_count": null,
   "id": "c127b2d7",
   "metadata": {},
   "outputs": [],
   "source": [
    "encoder = LabelEncoder()\n",
    "labels = encoder.fit_transform(labels_string)"
   ]
  },
  {
   "cell_type": "code",
   "execution_count": null,
   "id": "4acf2e42",
   "metadata": {},
   "outputs": [],
   "source": [
    "# Load the geodesic distance matrix \n",
    "geodesic_distances_file = geodesic_distances_file = '/home/sgurau/Desktop/geodesic_distances.csv'\n",
    "geodesic_distances = pd.read_csv(geodesic_distances_file, header=None).values"
   ]
  },
  {
   "cell_type": "code",
   "execution_count": null,
   "id": "2c2a19dc",
   "metadata": {},
   "outputs": [],
   "source": [
    "# Define hyperparameter ranges\n",
    "gamma_values = np.arange(10000, 1000000, 5000).tolist()\n",
    "beta_values = np.arange(0.1, 2, 0.5).tolist()\n",
    "C_values = np.arange(1, 100, 5).tolist()"
   ]
  },
  {
   "cell_type": "code",
   "execution_count": null,
   "id": "ab511bc1",
   "metadata": {},
   "outputs": [],
   "source": [
    "\n",
    "# Define the number of folds for cross-validation\n",
    "kfold = 5"
   ]
  },
  {
   "cell_type": "code",
   "execution_count": null,
   "id": "7820727c",
   "metadata": {},
   "outputs": [],
   "source": [
    "# Stratification into folds\n",
    "unique_labels, label_counts = np.unique(labels, return_counts=True)\n",
    "folds = defaultdict(list)"
   ]
  },
  {
   "cell_type": "code",
   "execution_count": null,
   "id": "9f34678b",
   "metadata": {},
   "outputs": [],
   "source": [
    "min_sizes = {label: count // kfold for label, count in zip(unique_labels, label_counts)}\n",
    "remainders = {label: count % kfold for label, count in zip(unique_labels, label_counts)}"
   ]
  },
  {
   "cell_type": "code",
   "execution_count": null,
   "id": "648564cd",
   "metadata": {},
   "outputs": [],
   "source": [
    "for label in unique_labels:\n",
    "    label_indices = np.where(labels == label)[0]\n",
    "    np.random.shuffle(label_indices)\n",
    "    current_fold = 0\n",
    "    for index in label_indices:\n",
    "        folds[current_fold].append(index)\n",
    "        if len(folds[current_fold]) >= min_sizes[label] + (current_fold < remainders[label]):\n",
    "            current_fold = (current_fold + 1) % kfold\n",
    "           \n",
    "for fold in folds:\n",
    "    folds[fold] = np.array(folds[fold])"
   ]
  },
  {
   "cell_type": "code",
   "execution_count": null,
   "id": "ccaeaf3a",
   "metadata": {},
   "outputs": [],
   "source": [
    "# Create train and test indices for each fold\n",
    "train_indices_all_folds = []\n",
    "test_indices_all_folds = []"
   ]
  },
  {
   "cell_type": "code",
   "execution_count": null,
   "id": "db1e64af",
   "metadata": {},
   "outputs": [],
   "source": [
    "for fold in range(kfold):\n",
    "    test_indices = folds[fold]\n",
    "    train_indices = np.hstack([folds[f] for f in range(kfold) if f != fold])\n",
    "    train_indices_all_folds.append(train_indices)\n",
    "    test_indices_all_folds.append(test_indices)"
   ]
  },
  {
   "cell_type": "code",
   "execution_count": null,
   "id": "a710599c",
   "metadata": {},
   "outputs": [],
   "source": [
    "# Perform cross-validation\n",
    "accuracy_values = []"
   ]
  },
  {
   "cell_type": "code",
   "execution_count": null,
   "id": "91f9a7fb",
   "metadata": {},
   "outputs": [],
   "source": [
    "# Initialize a dictionary to store the DataFrames for each fold\n",
    "fold_results_dfs = {}"
   ]
  },
  {
   "cell_type": "code",
   "execution_count": null,
   "id": "8b5550f2",
   "metadata": {},
   "outputs": [],
   "source": [
    "for fold in range(kfold):\n",
    "    train_indices = train_indices_all_folds[fold]\n",
    "    test_indices = test_indices_all_folds[fold]\n",
    "    for gamma in gamma_values:\n",
    "            for beta in beta_values:\n",
    "                precomputed_kernel_matrix = beta * np.exp(-geodesic_distances**2 / gamma)\n",
    "        \n",
    "                # Regularize the kernel matrix\n",
    "                # precomputed_kernel_matrix += 5e-4 * np.eye(len(geodesic_distances))        \n",
    "        \n",
    "                for C in C_values:    \n",
    "                    classifier = SVC(kernel='precomputed', C=C) # class_weight='balanced'\n",
    "                    classifier.fit(precomputed_kernel_matrix[train_indices][:, train_indices], labels[train_indices])\n",
    "                    predicted_labels = classifier.predict(precomputed_kernel_matrix[test_indices][:, train_indices])\n",
    "                    accuracy = accuracy_score(labels[test_indices], predicted_labels)\n",
    "                    accuracy_values.append(accuracy)\n",
    "                    print(f\"Fold={fold}, Gamma={gamma}, Beta={beta}, C={C}, Accuracy: {accuracy:.2f}\")\n",
    "            \n",
    "                    # Create the DataFrame and store it in the fold_results_dfs dictionary\n",
    "                    fold_results_dfs[fold] = pd.DataFrame({\n",
    "                        'test_indices': test_indices,\n",
    "                        'test_labels': labels[test_indices],\n",
    "                        'predicted_labels': predicted_labels\n",
    "                        })"
   ]
  },
  {
   "cell_type": "code",
   "execution_count": null,
   "id": "5b6f4498",
   "metadata": {},
   "outputs": [],
   "source": [
    "# Reshape the accuracy values for analysis\n",
    "accuracy_values = np.array(accuracy_values).reshape(kfold, len(gamma_values), len(beta_values), -1)"
   ]
  },
  {
   "cell_type": "code",
   "execution_count": null,
   "id": "c7128b5c",
   "metadata": {},
   "outputs": [],
   "source": [
    "# Calculate the average accuracy and standard deviation across folds\n",
    "average_accuracy = np.mean(accuracy_values, axis=0)\n",
    "std_dev = np.std(accuracy_values, axis=0)"
   ]
  },
  {
   "cell_type": "code",
   "execution_count": null,
   "id": "c20f24ea",
   "metadata": {},
   "outputs": [],
   "source": [
    "# Combine gamma, beta, and C values for results\n",
    "parameter_combinations = [(g, b, c) for g, b, c in product(gamma_values, beta_values, C_values)]\n",
    "results_df = pd.DataFrame({\n",
    "    'Gamma': [comb[0] for comb in parameter_combinations],\n",
    "    'Beta': [comb[1] for comb in parameter_combinations],\n",
    "    'C': [comb[2] for comb in parameter_combinations],\n",
    "    'Average Accuracy': average_accuracy.flatten(),\n",
    "    'Standard Deviation': std_dev.flatten()\n",
    "})"
   ]
  },
  {
   "cell_type": "code",
   "execution_count": null,
   "id": "d444fa22",
   "metadata": {},
   "outputs": [],
   "source": [
    "# Find the best combination of parameters\n",
    "best_index = results_df['Average Accuracy'].idxmax()\n",
    "best_parameters = results_df.loc[best_index]"
   ]
  },
  {
   "cell_type": "code",
   "execution_count": null,
   "id": "e5b0106a",
   "metadata": {},
   "outputs": [],
   "source": [
    "print(\"Best Parameters:\")\n",
    "print(best_parameters)"
   ]
  },
  {
   "cell_type": "code",
   "execution_count": null,
   "id": "3eb4cc8f",
   "metadata": {},
   "outputs": [],
   "source": [
    "\n",
    "# Calculate label distribution in the entire dataset\n",
    "total_label_distribution = {label: np.sum(labels == label) for label in unique_labels}"
   ]
  },
  {
   "cell_type": "code",
   "execution_count": null,
   "id": "15acf04c",
   "metadata": {},
   "outputs": [],
   "source": [
    "# Initialize a dictionary to hold the label distribution for each fold\n",
    "fold_label_distributions = {fold: {label: 0 for label in unique_labels} for fold in range(kfold)}"
   ]
  },
  {
   "cell_type": "code",
   "execution_count": null,
   "id": "d37fba4b",
   "metadata": {},
   "outputs": [],
   "source": [
    "# Calculate label distribution for each fold\n",
    "for fold in range(kfold):\n",
    "    fold_labels = labels[test_indices_all_folds[fold]]\n",
    "    for label in unique_labels:\n",
    "        fold_label_distributions[fold][label] = np.sum(fold_labels == label)"
   ]
  },
  {
   "cell_type": "code",
   "execution_count": null,
   "id": "25367d5b",
   "metadata": {},
   "outputs": [],
   "source": [
    "# Print distributions to compare them\n",
    "print(\"Label distribution in the entire dataset:\")\n",
    "print(total_label_distribution)"
   ]
  },
  {
   "cell_type": "code",
   "execution_count": null,
   "id": "8fbd869a",
   "metadata": {},
   "outputs": [],
   "source": [
    "print(\"\\nLabel distribution in each fold:\")\n",
    "for fold in range(kfold):\n",
    "    print(f\"Fold {fold}: {fold_label_distributions[fold]}\")"
   ]
  },
  {
   "cell_type": "code",
   "execution_count": null,
   "id": "48f4816a",
   "metadata": {},
   "outputs": [],
   "source": [
    "# Calculate the expected distribution in each fold (as a proportion)\n",
    "expected_distribution = {label: count / len(labels) for label, count in total_label_distribution.items()}"
   ]
  },
  {
   "cell_type": "code",
   "execution_count": null,
   "id": "89d58f21",
   "metadata": {},
   "outputs": [],
   "source": [
    "# Compare the fold distributions to the expected distribution\n",
    "print(\"\\nExpected label distribution (as proportions):\")\n",
    "print(expected_distribution)"
   ]
  },
  {
   "cell_type": "code",
   "execution_count": null,
   "id": "899df09e",
   "metadata": {},
   "outputs": [],
   "source": [
    "# Check if the folds are approximately equal to the expected distribution\n",
    "for fold in range(kfold):\n",
    "    fold_distribution_proportion = {\n",
    "        label: fold_label_distributions[fold][label] / sum(fold_label_distributions[fold].values()) \n",
    "        for label in fold_label_distributions[fold]\n",
    "    }\n",
    "    print(f\"Fold {fold} distribution as a proportion of total for each label:\")\n",
    "    print(fold_distribution_proportion)\n",
    "    \n",
    "# Dataframes to show train and test indices for each fold\n",
    "# train_indices_df = pd.DataFrame(train_indices_all_folds, index=[f'Fold {i+1}' for i in range(kfold)])\n",
    "# test_indices_df = pd.DataFrame(test_indices_all_folds, index=[f'Fold {i+1}' for i in range(kfold)])"
   ]
  },
  {
   "cell_type": "code",
   "execution_count": null,
   "id": "ee8cf1d8",
   "metadata": {},
   "outputs": [],
   "source": [
    "\n"
   ]
  }
 ],
 "metadata": {
  "kernelspec": {
   "display_name": "Python 3 (ipykernel)",
   "language": "python",
   "name": "python3"
  },
  "language_info": {
   "codemirror_mode": {
    "name": "ipython",
    "version": 3
   },
   "file_extension": ".py",
   "mimetype": "text/x-python",
   "name": "python",
   "nbconvert_exporter": "python",
   "pygments_lexer": "ipython3",
   "version": "3.11.6"
  }
 },
 "nbformat": 4,
 "nbformat_minor": 5
}
